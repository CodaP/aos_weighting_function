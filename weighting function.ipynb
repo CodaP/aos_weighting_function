{
 "cells": [
  {
   "cell_type": "code",
   "execution_count": 584,
   "metadata": {
    "collapsed": false
   },
   "outputs": [
    {
     "name": "stdout",
     "output_type": "stream",
     "text": [
      "Populating the interactive namespace from numpy and matplotlib\n"
     ]
    }
   ],
   "source": [
    "%pylab inline"
   ]
  },
  {
   "cell_type": "code",
   "execution_count": 585,
   "metadata": {
    "collapsed": false
   },
   "outputs": [],
   "source": [
    "import pandas as pd"
   ]
  },
  {
   "cell_type": "code",
   "execution_count": 586,
   "metadata": {
    "collapsed": true
   },
   "outputs": [],
   "source": [
    "import numpy as np"
   ]
  },
  {
   "cell_type": "code",
   "execution_count": 587,
   "metadata": {
    "collapsed": false
   },
   "outputs": [],
   "source": [
    "# Define function to compute saturation vapor pressure in Pa, given temperature in C.\n",
    "def esat(TC):\n",
    "    return(611.2*np.exp(17.67*TC/(TC+243.5)))\n",
    "\n",
    "#=================\n",
    "\n",
    "# Define function to compute saturation mixing ratio, given temperature in K and pressure in Pa\n",
    "def wsat(TK,p):\n",
    "    es = esat(TK-273.15)\n",
    "    return(0.622*es/(p-es))"
   ]
  },
  {
   "cell_type": "code",
   "execution_count": 588,
   "metadata": {
    "collapsed": true
   },
   "outputs": [],
   "source": [
    "from scipy.constants import g, C2K, K2C"
   ]
  },
  {
   "cell_type": "code",
   "execution_count": 589,
   "metadata": {
    "collapsed": false
   },
   "outputs": [
    {
     "name": "stdout",
     "output_type": "stream",
     "text": [
      "Read 123 rows\n"
     ]
    }
   ],
   "source": [
    "# Read sonde\n",
    "\n",
    "with open('91408_2011_07_19_12.txt') as sonde_fp:\n",
    "    for lineno, line in enumerate(sonde_fp):\n",
    "        if 'Station information' in line:\n",
    "            footer_start = lineno\n",
    "        if '----' in line:\n",
    "            header_end = lineno+1\n",
    "    footer_end = lineno\n",
    "    \n",
    "sonde = pd.read_table('91408_2011_07_19_12.txt', sep='\\s+', header=None, skiprows=range(header_end)+range(footer_start,footer_end+1),\n",
    "              names=[\n",
    "                'pressure',\n",
    "                'height',\n",
    "                'temperature',\n",
    "                'dewpoint',\n",
    "                'rh',\n",
    "                'mixing_ratio'\n",
    "                ],\n",
    "               usecols=range(6)\n",
    "             )\n",
    "# Set pressure as index\n",
    "sonde.set_index('pressure', drop=False, inplace=True)\n",
    "\n",
    "# Remove incomplete rows\n",
    "sonde.dropna(inplace=True)\n",
    "\n",
    "# Remove extra columns\n",
    "sonde.drop(['rh','mixing_ratio','height'], inplace=True, axis=1)\n",
    "\n",
    "# Ensure monotonicity\n",
    "non_monotonic = pd.np.nonzero(pd.np.diff(sonde.index) > 0)[0] + 1\n",
    "sonde.iloc[non_monotonic] = pd.np.NAN\n",
    "sonde.dropna(inplace=True)\n",
    "assert sonde.index.is_monotonic_decreasing\n",
    "\n",
    "# Convert hPa to Pa\n",
    "sonde.index *= 100\n",
    "sonde.pressure *= 100\n",
    "print 'Read',sonde.shape[0],'rows'"
   ]
  },
  {
   "cell_type": "code",
   "execution_count": 590,
   "metadata": {
    "collapsed": false,
    "scrolled": true
   },
   "outputs": [
    {
     "data": {
      "text/html": [
       "<div>\n",
       "<table border=\"1\" class=\"dataframe\">\n",
       "  <thead>\n",
       "    <tr style=\"text-align: right;\">\n",
       "      <th></th>\n",
       "      <th>dewpoint</th>\n",
       "      <th>pressure</th>\n",
       "      <th>temperature</th>\n",
       "    </tr>\n",
       "    <tr>\n",
       "      <th>pressure</th>\n",
       "      <th></th>\n",
       "      <th></th>\n",
       "      <th></th>\n",
       "    </tr>\n",
       "  </thead>\n",
       "  <tbody>\n",
       "    <tr>\n",
       "      <th>100.0</th>\n",
       "      <td>-80.0</td>\n",
       "      <td>100.0</td>\n",
       "      <td>-50.0</td>\n",
       "    </tr>\n",
       "  </tbody>\n",
       "</table>\n",
       "</div>"
      ],
      "text/plain": [
       "          dewpoint  pressure  temperature\n",
       "pressure                                 \n",
       "100.0        -80.0     100.0        -50.0"
      ]
     },
     "execution_count": 590,
     "metadata": {},
     "output_type": "execute_result"
    }
   ],
   "source": [
    "assumed_levels = pd.DataFrame({'temperature':[-50.0], 'dewpoint':[-80.0], 'pressure':[100.0]}, index=[100.0])\n",
    "assumed_levels.index.name = 'pressure'\n",
    "assumed_levels"
   ]
  },
  {
   "cell_type": "code",
   "execution_count": 591,
   "metadata": {
    "collapsed": false
   },
   "outputs": [],
   "source": [
    "profile = pd.concat([assumed_levels, sonde], join='inner').sort_index()"
   ]
  },
  {
   "cell_type": "code",
   "execution_count": 592,
   "metadata": {
    "collapsed": false
   },
   "outputs": [
    {
     "data": {
      "text/plain": [
       "array([ 100000.        ,   94868.32980505,   90000.        ,\n",
       "         85381.49682455,   81000.        ,   76843.34714209,\n",
       "         72900.        ,   69159.01242788,   65610.        ,\n",
       "         62243.11118509,   59049.        ,   56018.80006658,\n",
       "         53144.1       ,   50416.92005993,   47829.69      ,\n",
       "         45375.22805393,   43046.721     ,   40837.70524854,\n",
       "         38742.0489    ,   36753.93472369,   34867.84401   ,\n",
       "         33078.54125132,   31381.059609  ,   29770.68712619,\n",
       "         28242.9536481 ,   26793.61841357,   25418.65828329,\n",
       "         24114.25657221,   22876.79245496,   21702.83091499,\n",
       "         20589.11320946,   19532.54782349,   18530.20188852,\n",
       "         17579.29304114,   16677.18169967,   15821.36373703,\n",
       "         15009.4635297 ,   14239.22736332,   13508.51717673,\n",
       "         12815.30462699,   12157.66545906,   11533.77416429,\n",
       "         10941.89891315,   10380.39674786,    9847.70902184,\n",
       "          9342.35707308,    8862.93811965,    8408.12136577,\n",
       "          7976.64430769,    7567.30922919,    7178.97987692,\n",
       "          6810.57830627,    6461.08188923,    6129.52047565,\n",
       "          5814.9737003 ,    5516.56842808,    5233.47633027,\n",
       "          4964.91158527,    4710.12869725,    4468.42042675,\n",
       "          4239.11582752,    4021.57838407,    3815.20424477,\n",
       "          3619.42054566,    3433.68382029,    3257.4784911 ,\n",
       "          3090.31543826,    2931.73064199,    2781.28389444,\n",
       "          2638.55757779,    2503.15550499,    2374.70182001,\n",
       "          2252.83995449,    2137.23163801,    2027.55595904,\n",
       "          1923.50847421,    1824.80036314,    1731.15762679,\n",
       "          1642.32032683,    1558.04186411,    1478.08829414,\n",
       "          1402.2376777 ,    1330.27946473,    1262.01390993,\n",
       "          1197.25151826,    1135.81251894,    1077.52636643,\n",
       "          1022.23126704,     969.77372979,     920.00814034,\n",
       "           872.79635681,     828.0073263 ,     785.51672113,\n",
       "           745.20659367,     706.96504902,     670.68593431,\n",
       "           636.26854411,     603.61734088,     572.6416897 ,\n",
       "           543.25560679])"
      ]
     },
     "execution_count": 592,
     "metadata": {},
     "output_type": "execute_result"
    }
   ],
   "source": [
    "levels = .9 ** (np.arange(100)/2.) * 100000\n",
    "levels"
   ]
  },
  {
   "cell_type": "code",
   "execution_count": 593,
   "metadata": {
    "collapsed": false
   },
   "outputs": [
    {
     "data": {
      "text/html": [
       "<div>\n",
       "<table border=\"1\" class=\"dataframe\">\n",
       "  <thead>\n",
       "    <tr style=\"text-align: right;\">\n",
       "      <th></th>\n",
       "      <th>pressure</th>\n",
       "      <th>temperature</th>\n",
       "      <th>dewpoint</th>\n",
       "    </tr>\n",
       "    <tr>\n",
       "      <th>pressure</th>\n",
       "      <th></th>\n",
       "      <th></th>\n",
       "      <th></th>\n",
       "    </tr>\n",
       "  </thead>\n",
       "  <tbody>\n",
       "    <tr>\n",
       "      <th>100.0</th>\n",
       "      <td>100.0</td>\n",
       "      <td>-50.0</td>\n",
       "      <td>-80.0</td>\n",
       "    </tr>\n",
       "    <tr>\n",
       "      <th>850.0</th>\n",
       "      <td>850.0</td>\n",
       "      <td>-38.7</td>\n",
       "      <td>90.0</td>\n",
       "    </tr>\n",
       "    <tr>\n",
       "      <th>930.0</th>\n",
       "      <td>930.0</td>\n",
       "      <td>-43.9</td>\n",
       "      <td>90.0</td>\n",
       "    </tr>\n",
       "    <tr>\n",
       "      <th>970.0</th>\n",
       "      <td>970.0</td>\n",
       "      <td>-43.9</td>\n",
       "      <td>90.0</td>\n",
       "    </tr>\n",
       "    <tr>\n",
       "      <th>1000.0</th>\n",
       "      <td>1000.0</td>\n",
       "      <td>-45.3</td>\n",
       "      <td>90.0</td>\n",
       "    </tr>\n",
       "  </tbody>\n",
       "</table>\n",
       "</div>"
      ],
      "text/plain": [
       "          pressure  temperature  dewpoint\n",
       "pressure                                 \n",
       "100.0        100.0        -50.0     -80.0\n",
       "850.0        850.0        -38.7      90.0\n",
       "930.0        930.0        -43.9      90.0\n",
       "970.0        970.0        -43.9      90.0\n",
       "1000.0      1000.0        -45.3      90.0"
      ]
     },
     "execution_count": 593,
     "metadata": {},
     "output_type": "execute_result"
    }
   ],
   "source": [
    "profile.head()"
   ]
  },
  {
   "cell_type": "code",
   "execution_count": 594,
   "metadata": {
    "collapsed": false,
    "scrolled": true
   },
   "outputs": [],
   "source": [
    "#standard_profile = pd.concat([profile,profile.loc[levels]]).sort_index().interpolate().loc[levels].dropna()\n",
    "#standard_profile.drop_duplicates(inplace=True\n",
    "standard_profile = pd.DataFrame({k:np.interp(levels, profile.index, profile[k].values) for k in profile}, index=levels)"
   ]
  },
  {
   "cell_type": "code",
   "execution_count": 595,
   "metadata": {
    "collapsed": false
   },
   "outputs": [
    {
     "data": {
      "text/html": [
       "<div>\n",
       "<table border=\"1\" class=\"dataframe\">\n",
       "  <thead>\n",
       "    <tr style=\"text-align: right;\">\n",
       "      <th></th>\n",
       "      <th>dewpoint</th>\n",
       "      <th>pressure</th>\n",
       "      <th>temperature</th>\n",
       "    </tr>\n",
       "  </thead>\n",
       "  <tbody>\n",
       "    <tr>\n",
       "      <th>670.685934</th>\n",
       "      <td>49.355478</td>\n",
       "      <td>670.685934</td>\n",
       "      <td>-41.401665</td>\n",
       "    </tr>\n",
       "    <tr>\n",
       "      <th>636.268544</th>\n",
       "      <td>41.554203</td>\n",
       "      <td>636.268544</td>\n",
       "      <td>-41.920221</td>\n",
       "    </tr>\n",
       "    <tr>\n",
       "      <th>603.617341</th>\n",
       "      <td>34.153264</td>\n",
       "      <td>603.617341</td>\n",
       "      <td>-42.412165</td>\n",
       "    </tr>\n",
       "    <tr>\n",
       "      <th>572.641690</th>\n",
       "      <td>27.132116</td>\n",
       "      <td>572.641690</td>\n",
       "      <td>-42.878865</td>\n",
       "    </tr>\n",
       "    <tr>\n",
       "      <th>543.255607</th>\n",
       "      <td>20.471271</td>\n",
       "      <td>543.255607</td>\n",
       "      <td>-43.321616</td>\n",
       "    </tr>\n",
       "  </tbody>\n",
       "</table>\n",
       "</div>"
      ],
      "text/plain": [
       "             dewpoint    pressure  temperature\n",
       "670.685934  49.355478  670.685934   -41.401665\n",
       "636.268544  41.554203  636.268544   -41.920221\n",
       "603.617341  34.153264  603.617341   -42.412165\n",
       "572.641690  27.132116  572.641690   -42.878865\n",
       "543.255607  20.471271  543.255607   -43.321616"
      ]
     },
     "execution_count": 595,
     "metadata": {},
     "output_type": "execute_result"
    }
   ],
   "source": [
    "standard_profile.tail()"
   ]
  },
  {
   "cell_type": "code",
   "execution_count": 596,
   "metadata": {
    "collapsed": true
   },
   "outputs": [],
   "source": [
    "#TODO interpolate"
   ]
  },
  {
   "cell_type": "code",
   "execution_count": 597,
   "metadata": {
    "collapsed": false
   },
   "outputs": [],
   "source": [
    "standard_profile['q_vap'] = 0.622 * (standard_profile.dewpoint.apply(esat) / standard_profile.pressure)"
   ]
  },
  {
   "cell_type": "code",
   "execution_count": 598,
   "metadata": {
    "collapsed": false
   },
   "outputs": [],
   "source": [
    "means = standard_profile.rolling(window=2).mean().dropna()\n",
    "deltas = standard_profile.diff().rename(columns = lambda x: 'delta_'+x).dropna()\n",
    "layers = means.join(deltas).reset_index(drop=True)"
   ]
  },
  {
   "cell_type": "code",
   "execution_count": 599,
   "metadata": {
    "collapsed": false,
    "scrolled": true
   },
   "outputs": [],
   "source": [
    "layers['mass'] = -layers.delta_pressure / g"
   ]
  },
  {
   "cell_type": "code",
   "execution_count": 600,
   "metadata": {
    "collapsed": true
   },
   "outputs": [],
   "source": [
    "layers['wvmass'] = layers.q_vap*layers.mass"
   ]
  },
  {
   "cell_type": "code",
   "execution_count": 601,
   "metadata": {
    "collapsed": false
   },
   "outputs": [],
   "source": [
    "layers['delta_z'] = 287.06*layers.temperature.apply(C2K)*(1.+0.61*layers.q_vap)*log(1/np.sqrt(.9))/9.80665"
   ]
  },
  {
   "cell_type": "code",
   "execution_count": 602,
   "metadata": {
    "collapsed": false,
    "scrolled": true
   },
   "outputs": [
    {
     "data": {
      "text/html": [
       "<div>\n",
       "<table border=\"1\" class=\"dataframe\">\n",
       "  <thead>\n",
       "    <tr style=\"text-align: right;\">\n",
       "      <th></th>\n",
       "      <th>dewpoint</th>\n",
       "      <th>pressure</th>\n",
       "      <th>temperature</th>\n",
       "      <th>q_vap</th>\n",
       "      <th>delta_dewpoint</th>\n",
       "      <th>delta_pressure</th>\n",
       "      <th>delta_temperature</th>\n",
       "      <th>delta_q_vap</th>\n",
       "      <th>mass</th>\n",
       "      <th>wvmass</th>\n",
       "      <th>delta_z</th>\n",
       "    </tr>\n",
       "  </thead>\n",
       "  <tbody>\n",
       "    <tr>\n",
       "      <th>94</th>\n",
       "      <td>53.467111</td>\n",
       "      <td>688.825492</td>\n",
       "      <td>-41.128363</td>\n",
       "      <td>13.459420</td>\n",
       "      <td>-8.223266</td>\n",
       "      <td>-36.279115</td>\n",
       "      <td>-0.546605</td>\n",
       "      <td>-4.644993</td>\n",
       "      <td>3.699440</td>\n",
       "      <td>49.792319</td>\n",
       "      <td>3295.335417</td>\n",
       "    </tr>\n",
       "    <tr>\n",
       "      <th>95</th>\n",
       "      <td>45.454841</td>\n",
       "      <td>653.477239</td>\n",
       "      <td>-41.660943</td>\n",
       "      <td>9.494818</td>\n",
       "      <td>-7.801275</td>\n",
       "      <td>-34.417390</td>\n",
       "      <td>-0.518555</td>\n",
       "      <td>-3.284211</td>\n",
       "      <td>3.509597</td>\n",
       "      <td>33.322986</td>\n",
       "      <td>2424.475234</td>\n",
       "    </tr>\n",
       "    <tr>\n",
       "      <th>96</th>\n",
       "      <td>37.853734</td>\n",
       "      <td>619.942942</td>\n",
       "      <td>-42.166193</td>\n",
       "      <td>6.694157</td>\n",
       "      <td>-7.400939</td>\n",
       "      <td>-32.651203</td>\n",
       "      <td>-0.491945</td>\n",
       "      <td>-2.317111</td>\n",
       "      <td>3.329496</td>\n",
       "      <td>22.288171</td>\n",
       "      <td>1810.667848</td>\n",
       "    </tr>\n",
       "    <tr>\n",
       "      <th>97</th>\n",
       "      <td>30.642690</td>\n",
       "      <td>588.129515</td>\n",
       "      <td>-42.645515</td>\n",
       "      <td>4.719501</td>\n",
       "      <td>-7.021148</td>\n",
       "      <td>-30.975651</td>\n",
       "      <td>-0.466700</td>\n",
       "      <td>-1.632203</td>\n",
       "      <td>3.158637</td>\n",
       "      <td>14.907191</td>\n",
       "      <td>1378.755748</td>\n",
       "    </tr>\n",
       "    <tr>\n",
       "      <th>98</th>\n",
       "      <td>23.801694</td>\n",
       "      <td>557.948648</td>\n",
       "      <td>-43.100240</td>\n",
       "      <td>3.329117</td>\n",
       "      <td>-6.660845</td>\n",
       "      <td>-29.386083</td>\n",
       "      <td>-0.442750</td>\n",
       "      <td>-1.148564</td>\n",
       "      <td>2.996547</td>\n",
       "      <td>9.975854</td>\n",
       "      <td>1075.160840</td>\n",
       "    </tr>\n",
       "  </tbody>\n",
       "</table>\n",
       "</div>"
      ],
      "text/plain": [
       "     dewpoint    pressure  temperature      q_vap  delta_dewpoint  \\\n",
       "94  53.467111  688.825492   -41.128363  13.459420       -8.223266   \n",
       "95  45.454841  653.477239   -41.660943   9.494818       -7.801275   \n",
       "96  37.853734  619.942942   -42.166193   6.694157       -7.400939   \n",
       "97  30.642690  588.129515   -42.645515   4.719501       -7.021148   \n",
       "98  23.801694  557.948648   -43.100240   3.329117       -6.660845   \n",
       "\n",
       "    delta_pressure  delta_temperature  delta_q_vap      mass     wvmass  \\\n",
       "94      -36.279115          -0.546605    -4.644993  3.699440  49.792319   \n",
       "95      -34.417390          -0.518555    -3.284211  3.509597  33.322986   \n",
       "96      -32.651203          -0.491945    -2.317111  3.329496  22.288171   \n",
       "97      -30.975651          -0.466700    -1.632203  3.158637  14.907191   \n",
       "98      -29.386083          -0.442750    -1.148564  2.996547   9.975854   \n",
       "\n",
       "        delta_z  \n",
       "94  3295.335417  \n",
       "95  2424.475234  \n",
       "96  1810.667848  \n",
       "97  1378.755748  \n",
       "98  1075.160840  "
      ]
     },
     "execution_count": 602,
     "metadata": {},
     "output_type": "execute_result"
    }
   ],
   "source": [
    "layers.tail()"
   ]
  },
  {
   "cell_type": "code",
   "execution_count": 606,
   "metadata": {
    "collapsed": false
   },
   "outputs": [],
   "source": [
    "z = layers.delta_z.cumsum()\n",
    "z[-1] = 0\n",
    "layers['z'] = z.sort_index().rolling(window=2).mean()"
   ]
  },
  {
   "cell_type": "code",
   "execution_count": 608,
   "metadata": {
    "collapsed": true
   },
   "outputs": [],
   "source": [
    "layers['rho'] = layers.mass / layers.delta_z\n",
    "layers['rho_wv'] = layers.wvmass / layers.delta_z"
   ]
  },
  {
   "cell_type": "code",
   "execution_count": 609,
   "metadata": {
    "collapsed": false
   },
   "outputs": [
    {
     "data": {
      "text/html": [
       "<div>\n",
       "<table border=\"1\" class=\"dataframe\">\n",
       "  <thead>\n",
       "    <tr style=\"text-align: right;\">\n",
       "      <th></th>\n",
       "      <th>dewpoint</th>\n",
       "      <th>pressure</th>\n",
       "      <th>temperature</th>\n",
       "      <th>q_vap</th>\n",
       "      <th>delta_dewpoint</th>\n",
       "      <th>delta_pressure</th>\n",
       "      <th>delta_temperature</th>\n",
       "      <th>delta_q_vap</th>\n",
       "      <th>mass</th>\n",
       "      <th>wvmass</th>\n",
       "      <th>delta_z</th>\n",
       "      <th>z</th>\n",
       "      <th>rho</th>\n",
       "      <th>rho_wv</th>\n",
       "    </tr>\n",
       "  </thead>\n",
       "  <tbody>\n",
       "    <tr>\n",
       "      <th>94</th>\n",
       "      <td>53.467111</td>\n",
       "      <td>688.825492</td>\n",
       "      <td>-41.128363</td>\n",
       "      <td>13.459420</td>\n",
       "      <td>-8.223266</td>\n",
       "      <td>-36.279115</td>\n",
       "      <td>-0.546605</td>\n",
       "      <td>-4.644993</td>\n",
       "      <td>3.699440</td>\n",
       "      <td>49.792319</td>\n",
       "      <td>3295.335417</td>\n",
       "      <td>219669.437731</td>\n",
       "      <td>0.001123</td>\n",
       "      <td>0.015110</td>\n",
       "    </tr>\n",
       "    <tr>\n",
       "      <th>95</th>\n",
       "      <td>45.454841</td>\n",
       "      <td>653.477239</td>\n",
       "      <td>-41.660943</td>\n",
       "      <td>9.494818</td>\n",
       "      <td>-7.801275</td>\n",
       "      <td>-34.417390</td>\n",
       "      <td>-0.518555</td>\n",
       "      <td>-3.284211</td>\n",
       "      <td>3.509597</td>\n",
       "      <td>33.322986</td>\n",
       "      <td>2424.475234</td>\n",
       "      <td>222529.343056</td>\n",
       "      <td>0.001448</td>\n",
       "      <td>0.013744</td>\n",
       "    </tr>\n",
       "    <tr>\n",
       "      <th>96</th>\n",
       "      <td>37.853734</td>\n",
       "      <td>619.942942</td>\n",
       "      <td>-42.166193</td>\n",
       "      <td>6.694157</td>\n",
       "      <td>-7.400939</td>\n",
       "      <td>-32.651203</td>\n",
       "      <td>-0.491945</td>\n",
       "      <td>-2.317111</td>\n",
       "      <td>3.329496</td>\n",
       "      <td>22.288171</td>\n",
       "      <td>1810.667848</td>\n",
       "      <td>224646.914597</td>\n",
       "      <td>0.001839</td>\n",
       "      <td>0.012309</td>\n",
       "    </tr>\n",
       "    <tr>\n",
       "      <th>97</th>\n",
       "      <td>30.642690</td>\n",
       "      <td>588.129515</td>\n",
       "      <td>-42.645515</td>\n",
       "      <td>4.719501</td>\n",
       "      <td>-7.021148</td>\n",
       "      <td>-30.975651</td>\n",
       "      <td>-0.466700</td>\n",
       "      <td>-1.632203</td>\n",
       "      <td>3.158637</td>\n",
       "      <td>14.907191</td>\n",
       "      <td>1378.755748</td>\n",
       "      <td>226241.626395</td>\n",
       "      <td>0.002291</td>\n",
       "      <td>0.010812</td>\n",
       "    </tr>\n",
       "    <tr>\n",
       "      <th>98</th>\n",
       "      <td>23.801694</td>\n",
       "      <td>557.948648</td>\n",
       "      <td>-43.100240</td>\n",
       "      <td>3.329117</td>\n",
       "      <td>-6.660845</td>\n",
       "      <td>-29.386083</td>\n",
       "      <td>-0.442750</td>\n",
       "      <td>-1.148564</td>\n",
       "      <td>2.996547</td>\n",
       "      <td>9.975854</td>\n",
       "      <td>1075.160840</td>\n",
       "      <td>227468.584690</td>\n",
       "      <td>0.002787</td>\n",
       "      <td>0.009278</td>\n",
       "    </tr>\n",
       "  </tbody>\n",
       "</table>\n",
       "</div>"
      ],
      "text/plain": [
       "     dewpoint    pressure  temperature      q_vap  delta_dewpoint  \\\n",
       "94  53.467111  688.825492   -41.128363  13.459420       -8.223266   \n",
       "95  45.454841  653.477239   -41.660943   9.494818       -7.801275   \n",
       "96  37.853734  619.942942   -42.166193   6.694157       -7.400939   \n",
       "97  30.642690  588.129515   -42.645515   4.719501       -7.021148   \n",
       "98  23.801694  557.948648   -43.100240   3.329117       -6.660845   \n",
       "\n",
       "    delta_pressure  delta_temperature  delta_q_vap      mass     wvmass  \\\n",
       "94      -36.279115          -0.546605    -4.644993  3.699440  49.792319   \n",
       "95      -34.417390          -0.518555    -3.284211  3.509597  33.322986   \n",
       "96      -32.651203          -0.491945    -2.317111  3.329496  22.288171   \n",
       "97      -30.975651          -0.466700    -1.632203  3.158637  14.907191   \n",
       "98      -29.386083          -0.442750    -1.148564  2.996547   9.975854   \n",
       "\n",
       "        delta_z              z       rho    rho_wv  \n",
       "94  3295.335417  219669.437731  0.001123  0.015110  \n",
       "95  2424.475234  222529.343056  0.001448  0.013744  \n",
       "96  1810.667848  224646.914597  0.001839  0.012309  \n",
       "97  1378.755748  226241.626395  0.002291  0.010812  \n",
       "98  1075.160840  227468.584690  0.002787  0.009278  "
      ]
     },
     "execution_count": 609,
     "metadata": {},
     "output_type": "execute_result"
    }
   ],
   "source": [
    "layers.tail()"
   ]
  },
  {
   "cell_type": "code",
   "execution_count": 610,
   "metadata": {
    "collapsed": true
   },
   "outputs": [],
   "source": [
    "import gasabsr98"
   ]
  },
  {
   "cell_type": "code",
   "execution_count": 611,
   "metadata": {
    "collapsed": true
   },
   "outputs": [],
   "source": [
    "f = 54.4000"
   ]
  },
  {
   "cell_type": "code",
   "execution_count": 612,
   "metadata": {
    "collapsed": true
   },
   "outputs": [],
   "source": [
    "def get_weighting_function(f):\n",
    "    layers['ke_air'] = layers.apply(lambda s: gasabsr98.gasabsr98(f,C2K(s.temperature), s.rho_wv, s.pressure)[0], axis=1)\n",
    "    layers['ke_wv'] = layers.apply(lambda s: gasabsr98.gasabsr98(f,C2K(s.temperature), s.rho_wv, s.pressure)[1], axis=1)\n",
    "    \n",
    "    layers['tau'] = (layers.ke_air*layers.mass + layers.ke_wv*layers.wvmass)\n",
    "    return pd.Series(\n",
    "        # W(z) = -dt(z)/dz\n",
    "        -np.diff(\n",
    "            # t(z) = e^-tau(z)\n",
    "            np.exp(\n",
    "                # tau(z) = integral from top to z of tau\n",
    "                -layers.tau.values[::-1].cumsum()\n",
    "            )\n",
    "        ),\n",
    "        index=layers.z[1:]\n",
    "    )"
   ]
  },
  {
   "cell_type": "code",
   "execution_count": 613,
   "metadata": {
    "collapsed": false,
    "scrolled": true
   },
   "outputs": [
    {
     "data": {
      "text/plain": [
       "z\n",
       "693.357627       6.499470e-02\n",
       "1150.268360      9.958009e-02\n",
       "1603.062729      1.406258e-01\n",
       "2051.271993      1.772099e-01\n",
       "2495.042248      1.893371e-01\n",
       "2934.932399      1.585771e-01\n",
       "3370.731009      9.261903e-02\n",
       "3802.084784      3.088439e-02\n",
       "4229.391607      5.577246e-03\n",
       "4653.184674      6.405399e-04\n",
       "5073.831271      5.759907e-05\n",
       "5491.313531      4.084609e-06\n",
       "5905.179437      2.170269e-07\n",
       "6315.263401      9.566851e-09\n",
       "6721.653315      3.771542e-10\n",
       "7124.406992      1.294235e-11\n",
       "7523.477447      3.648653e-13\n",
       "7918.713306      8.564214e-15\n",
       "8309.974184      1.750298e-16\n",
       "8697.049236      3.006355e-18\n",
       "9079.695467      2.953008e-20\n",
       "9457.797859      1.268842e-22\n",
       "9831.184657      4.571031e-25\n",
       "10199.647936     2.559778e-27\n",
       "10563.258668     1.438007e-29\n",
       "10922.197592     2.892752e-32\n",
       "11276.484737     1.172562e-35\n",
       "11626.081045     4.997657e-40\n",
       "11971.042788     1.327275e-45\n",
       "12311.457738     2.019219e-52\n",
       "                     ...     \n",
       "50706.259642     5.652216e-91\n",
       "56766.893857     5.997739e-91\n",
       "62208.841020     6.339424e-91\n",
       "67070.489621     6.670442e-91\n",
       "71361.761550     6.985039e-91\n",
       "75269.280191     7.280398e-91\n",
       "79323.449638     7.553736e-91\n",
       "84004.512598     7.793162e-91\n",
       "89301.383570     7.990647e-91\n",
       "94793.415426     8.145369e-91\n",
       "100261.020850    8.250550e-91\n",
       "105927.012001    8.300361e-91\n",
       "112003.618033    8.294225e-91\n",
       "118572.227169    8.229825e-91\n",
       "125728.442453    8.108468e-91\n",
       "133529.708124    7.931924e-91\n",
       "141990.186110    7.701012e-91\n",
       "151095.507765    7.417923e-91\n",
       "160804.867086    7.069552e-91\n",
       "171101.339926    6.659661e-91\n",
       "182014.708271    6.212961e-91\n",
       "193070.300253    5.723018e-91\n",
       "202866.693485    5.200804e-91\n",
       "210359.406754    4.679619e-91\n",
       "215757.700027    4.154175e-91\n",
       "219669.437731    3.618507e-91\n",
       "222529.343056    3.094912e-91\n",
       "224646.914597    2.615324e-91\n",
       "226241.626395    2.190446e-91\n",
       "227468.584690    1.764229e-91\n",
       "dtype: float64"
      ]
     },
     "execution_count": 613,
     "metadata": {},
     "output_type": "execute_result"
    }
   ],
   "source": [
    "get_weighting_function(f)"
   ]
  },
  {
   "cell_type": "code",
   "execution_count": null,
   "metadata": {
    "collapsed": false
   },
   "outputs": [],
   "source": []
  },
  {
   "cell_type": "code",
   "execution_count": 614,
   "metadata": {
    "collapsed": false
   },
   "outputs": [],
   "source": [
    "amsu_a = pd.Series(\n",
    "    {\n",
    "        3:  50.3000,\n",
    "        4:  52.8000,\n",
    "        5:  53.7110,\n",
    "        6:  54.4000,\n",
    "        7:  54.9400,\n",
    "        8:  55.5000,\n",
    "        9:  57.2900,\n",
    "        10: 57.5070\n",
    "    }\n",
    ")\n",
    "\n",
    "amsu_b = pd.Series(\n",
    "    {\n",
    "       16: 89.00,\n",
    "        17: 150.0,\n",
    "        18: 184.31,\n",
    "        19: 186.31,\n",
    "        20: 190.31\n",
    "    }\n",
    ")"
   ]
  },
  {
   "cell_type": "code",
   "execution_count": 615,
   "metadata": {
    "collapsed": false
   },
   "outputs": [],
   "source": [
    "weighting_functions = pd.DataFrame({ channel:get_weighting_function(amsu_a[channel]) for channel in amsu_a.index})"
   ]
  },
  {
   "cell_type": "code",
   "execution_count": 616,
   "metadata": {
    "collapsed": false
   },
   "outputs": [
    {
     "data": {
      "text/plain": [
       "(0, 40000)"
      ]
     },
     "execution_count": 616,
     "metadata": {},
     "output_type": "execute_result"
    },
    {
     "data": {
      "image/png": "[encoded data removed]",
      "text/plain": [
       "<matplotlib.figure.Figure at 0x7f1451431fd0>"
      ]
     },
     "metadata": {},
     "output_type": "display_data"
    }
   ],
   "source": [
    "plot(weighting_functions, weighting_functions.index)\n",
    "legend(amsu_a.index, loc='best')\n",
    "ylim([0,40000])"
   ]
  },
  {
   "cell_type": "code",
   "execution_count": null,
   "metadata": {
    "collapsed": true
   },
   "outputs": [],
   "source": []
  }
 ],
 "metadata": {
  "kernelspec": {
   "display_name": "Python 2",
   "language": "python",
   "name": "python2"
  },
  "language_info": {
   "codemirror_mode": {
    "name": "ipython",
    "version": 2
   },
   "file_extension": ".py",
   "mimetype": "text/x-python",
   "name": "python",
   "nbconvert_exporter": "python",
   "pygments_lexer": "ipython2",
   "version": "2.7.11"
  }
 },
 "nbformat": 4,
 "nbformat_minor": 0
}
