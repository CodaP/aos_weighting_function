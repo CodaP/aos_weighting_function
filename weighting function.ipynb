{
 "cells": [
  {
   "cell_type": "code",
   "execution_count": 584,
   "metadata": {
    "collapsed": false
   },
   "outputs": [
    {
     "name": "stdout",
     "output_type": "stream",
     "text": [
      "Populating the interactive namespace from numpy and matplotlib\n"
     ]
    }
   ],
   "source": [
    "%pylab inline"
   ]
  },
  {
   "cell_type": "code",
   "execution_count": 585,
   "metadata": {
    "collapsed": false
   },
   "outputs": [],
   "source": [
    "import pandas as pd"
   ]
  },
  {
   "cell_type": "code",
   "execution_count": 586,
   "metadata": {
    "collapsed": true
   },
   "outputs": [],
   "source": [
    "import numpy as np"
   ]
  },
  {
   "cell_type": "code",
   "execution_count": 587,
   "metadata": {
    "collapsed": false
   },
   "outputs": [],
   "source": [
    "# Define function to compute saturation vapor pressure in Pa, given temperature in C.\n",
    "def esat(TC):\n",
    "    return(611.2*np.exp(17.67*TC/(TC+243.5)))\n",
    "\n",
    "#=================\n",
    "\n",
    "# Define function to compute saturation mixing ratio, given temperature in K and pressure in Pa\n",
    "def wsat(TK,p):\n",
    "    es = esat(TK-273.15)\n",
    "    return(0.622*es/(p-es))"
   ]
  },
  {
   "cell_type": "code",
   "execution_count": 588,
   "metadata": {
    "collapsed": true
   },
   "outputs": [],
   "source": [
    "from scipy.constants import g, C2K, K2C"
   ]
  },
  {
   "cell_type": "code",
   "execution_count": 589,
   "metadata": {
    "collapsed": false
   },
   "outputs": [
    {
     "name": "stdout",
     "output_type": "stream",
     "text": [
      "Read 123 rows\n"
     ]
    }
   ],
   "source": [
    "# Read sonde\n",
    "\n",
    "with open('91408_2011_07_19_12.txt') as sonde_fp:\n",
    "    for lineno, line in enumerate(sonde_fp):\n",
    "        if 'Station information' in line:\n",
    "            footer_start = lineno\n",
    "        if '----' in line:\n",
    "            header_end = lineno+1\n",
    "    footer_end = lineno\n",
    "    \n",
    "sonde = pd.read_table('91408_2011_07_19_12.txt', sep='\\s+', header=None, skiprows=range(header_end)+range(footer_start,footer_end+1),\n",
    "              names=[\n",
    "                'pressure',\n",
    "                'height',\n",
    "                'temperature',\n",
    "                'dewpoint',\n",
    "                'rh',\n",
    "                'mixing_ratio'\n",
    "                ],\n",
    "               usecols=range(6)\n",
    "             )\n",
    "# Set pressure as index\n",
    "sonde.set_index('pressure', drop=False, inplace=True)\n",
    "\n",
    "# Remove incomplete rows\n",
    "sonde.dropna(inplace=True)\n",
    "\n",
    "# Remove extra columns\n",
    "sonde.drop(['rh','mixing_ratio','height'], inplace=True, axis=1)\n",
    "\n",
    "# Ensure monotonicity\n",
    "non_monotonic = pd.np.nonzero(pd.np.diff(sonde.index) > 0)[0] + 1\n",
    "sonde.iloc[non_monotonic] = pd.np.NAN\n",
    "sonde.dropna(inplace=True)\n",
    "assert sonde.index.is_monotonic_decreasing\n",
    "\n",
    "# Convert hPa to Pa\n",
    "sonde.index *= 100\n",
    "sonde.pressure *= 100\n",
    "print 'Read',sonde.shape[0],'rows'"
   ]
  },
  {
   "cell_type": "code",
   "execution_count": 671,
   "metadata": {
    "collapsed": false,
    "scrolled": true
   },
   "outputs": [
    {
     "data": {
      "text/html": [
       "<div>\n",
       "<table border=\"1\" class=\"dataframe\">\n",
       "  <thead>\n",
       "    <tr style=\"text-align: right;\">\n",
       "      <th></th>\n",
       "      <th>dewpoint</th>\n",
       "      <th>pressure</th>\n",
       "      <th>temperature</th>\n",
       "    </tr>\n",
       "    <tr>\n",
       "      <th>pressure</th>\n",
       "      <th></th>\n",
       "      <th></th>\n",
       "      <th></th>\n",
       "    </tr>\n",
       "  </thead>\n",
       "  <tbody>\n",
       "    <tr>\n",
       "      <th>100.0</th>\n",
       "      <td>-80.0</td>\n",
       "      <td>100.0</td>\n",
       "      <td>-50.0</td>\n",
       "    </tr>\n",
       "  </tbody>\n",
       "</table>\n",
       "</div>"
      ],
      "text/plain": [
       "          dewpoint  pressure  temperature\n",
       "pressure                                 \n",
       "100.0        -80.0     100.0        -50.0"
      ]
     },
     "execution_count": 671,
     "metadata": {},
     "output_type": "execute_result"
    }
   ],
   "source": [
    "assumed_levels = pd.DataFrame({'temperature':[-50.0], 'dewpoint':[-80.0], 'pressure':[100.0]}, index=[100.0])\n",
    "assumed_levels.index.name = 'pressure'\n",
    "assumed_levels"
   ]
  },
  {
   "cell_type": "code",
   "execution_count": 831,
   "metadata": {
    "collapsed": false
   },
   "outputs": [],
   "source": [
    "profile = pd.concat([assumed_levels, sonde], join='inner').sort_index()"
   ]
  },
  {
   "cell_type": "code",
   "execution_count": 832,
   "metadata": {
    "collapsed": false
   },
   "outputs": [
    {
     "name": "stdout",
     "output_type": "stream",
     "text": [
      "Inserted another 56 new levels\n",
      "Inserted another 49 new levels\n",
      "Inserted another 32 new levels\n",
      "Inserted another 32 new levels\n",
      "Inserted another 7 new levels\n",
      "Inserted another 5 new levels\n",
      "Inserted another 1 new levels\n"
     ]
    }
   ],
   "source": [
    "while True:\n",
    "    pres_locations_to_insert = np.flatnonzero((profile.pressure.values[:-1]/profile.pressure.values[1:]) < 0.9) + 1\n",
    "    temp_locations_to_insert = np.flatnonzero((profile.temperature.diff()).abs() > 1.0)\n",
    "    locations_to_insert = np.union1d(pres_locations_to_insert, temp_locations_to_insert)\n",
    "    if len(locations_to_insert) == 0:\n",
    "        break\n",
    "    print 'Inserted another', len(locations_to_insert), 'new levels'\n",
    "    profile = profile.append(\n",
    "        profile.rolling(window=2).mean()\n",
    "        .iloc[locations_to_insert]\n",
    "        .set_index('pressure', drop=False)\n",
    "    ).sort_index()"
   ]
  },
  {
   "cell_type": "code",
   "execution_count": 844,
   "metadata": {
    "collapsed": false,
    "scrolled": true
   },
   "outputs": [],
   "source": [
    "#standard_profile = pd.DataFrame({k:np.interp(levels, profile.index, profile[k].values) for k in profile}, index=levels)\n",
    "standard_profile = profile.copy()"
   ]
  },
  {
   "cell_type": "code",
   "execution_count": 845,
   "metadata": {
    "collapsed": false
   },
   "outputs": [
    {
     "data": {
      "text/html": [
       "<div>\n",
       "<table border=\"1\" class=\"dataframe\">\n",
       "  <thead>\n",
       "    <tr style=\"text-align: right;\">\n",
       "      <th></th>\n",
       "      <th>pressure</th>\n",
       "      <th>temperature</th>\n",
       "      <th>dewpoint</th>\n",
       "    </tr>\n",
       "    <tr>\n",
       "      <th>pressure</th>\n",
       "      <th></th>\n",
       "      <th></th>\n",
       "      <th></th>\n",
       "    </tr>\n",
       "  </thead>\n",
       "  <tbody>\n",
       "    <tr>\n",
       "      <th>97670.0</th>\n",
       "      <td>97670.0</td>\n",
       "      <td>24.90</td>\n",
       "      <td>23.00</td>\n",
       "    </tr>\n",
       "    <tr>\n",
       "      <th>98335.0</th>\n",
       "      <td>98335.0</td>\n",
       "      <td>25.45</td>\n",
       "      <td>23.15</td>\n",
       "    </tr>\n",
       "    <tr>\n",
       "      <th>99000.0</th>\n",
       "      <td>99000.0</td>\n",
       "      <td>26.00</td>\n",
       "      <td>23.30</td>\n",
       "    </tr>\n",
       "    <tr>\n",
       "      <th>100000.0</th>\n",
       "      <td>100000.0</td>\n",
       "      <td>26.40</td>\n",
       "      <td>22.50</td>\n",
       "    </tr>\n",
       "    <tr>\n",
       "      <th>100700.0</th>\n",
       "      <td>100700.0</td>\n",
       "      <td>26.80</td>\n",
       "      <td>24.10</td>\n",
       "    </tr>\n",
       "  </tbody>\n",
       "</table>\n",
       "</div>"
      ],
      "text/plain": [
       "          pressure  temperature  dewpoint\n",
       "pressure                                 \n",
       "97670.0    97670.0        24.90     23.00\n",
       "98335.0    98335.0        25.45     23.15\n",
       "99000.0    99000.0        26.00     23.30\n",
       "100000.0  100000.0        26.40     22.50\n",
       "100700.0  100700.0        26.80     24.10"
      ]
     },
     "execution_count": 845,
     "metadata": {},
     "output_type": "execute_result"
    }
   ],
   "source": [
    "standard_profile.tail()"
   ]
  },
  {
   "cell_type": "code",
   "execution_count": 846,
   "metadata": {
    "collapsed": true
   },
   "outputs": [],
   "source": [
    "#TODO interpolate"
   ]
  },
  {
   "cell_type": "code",
   "execution_count": 847,
   "metadata": {
    "collapsed": false
   },
   "outputs": [],
   "source": [
    "standard_profile['q_vap'] = 0.622 * (standard_profile.dewpoint.apply(esat) / standard_profile.pressure)"
   ]
  },
  {
   "cell_type": "code",
   "execution_count": 848,
   "metadata": {
    "collapsed": false
   },
   "outputs": [],
   "source": [
    "means = standard_profile.rolling(window=2).mean().dropna()\n",
    "deltas = standard_profile.diff().rename(columns = lambda x: 'delta_'+x).dropna()\n",
    "layers = means.join(deltas).reset_index(drop=True)"
   ]
  },
  {
   "cell_type": "code",
   "execution_count": 878,
   "metadata": {
    "collapsed": false,
    "scrolled": true
   },
   "outputs": [],
   "source": [
    "layers['mass'] = layers.delta_pressure / g"
   ]
  },
  {
   "cell_type": "code",
   "execution_count": 879,
   "metadata": {
    "collapsed": true
   },
   "outputs": [],
   "source": [
    "layers['wvmass'] = layers.q_vap*layers.mass"
   ]
  },
  {
   "cell_type": "code",
   "execution_count": 902,
   "metadata": {
    "collapsed": false
   },
   "outputs": [],
   "source": [
    "layers['delta_z'] = (287.06*layers.temperature.iloc[1:].apply(C2K)\n",
    "                     *(1.+0.61*layers.q_vap.iloc[1:])\n",
    "                     *log(layers.pressure.values[1:]/layers.pressure.values[:-1])/9.80665)\n",
    "layers = layers.iloc[1:]"
   ]
  },
  {
   "cell_type": "code",
   "execution_count": 1044,
   "metadata": {
    "collapsed": false
   },
   "outputs": [],
   "source": [
    "z = layers.delta_z.sort_index(ascending=False).cumsum()\n",
    "z[-1] = 0\n",
    "layers['z'] = z.sort_index().rolling(window=2).mean()"
   ]
  },
  {
   "cell_type": "code",
   "execution_count": 1045,
   "metadata": {
    "collapsed": true
   },
   "outputs": [],
   "source": [
    "layers['rho'] = layers.mass / layers.delta_z\n",
    "layers['rho_wv'] = layers.wvmass / layers.delta_z"
   ]
  },
  {
   "cell_type": "code",
   "execution_count": 1160,
   "metadata": {
    "collapsed": false
   },
   "outputs": [
    {
     "data": {
      "text/plain": [
       "57.74604056251214"
      ]
     },
     "execution_count": 1160,
     "metadata": {},
     "output_type": "execute_result"
    }
   ],
   "source": [
    "sum( x.wvmass for x in weight_shell.Atmosphere )"
   ]
  },
  {
   "cell_type": "code",
   "execution_count": 1181,
   "metadata": {
    "collapsed": false
   },
   "outputs": [
    {
     "data": {
      "text/plain": [
       "<matplotlib.axes._subplots.AxesSubplot at 0x7f144300ebd0>"
      ]
     },
     "execution_count": 1181,
     "metadata": {},
     "output_type": "execute_result"
    },
    {
     "data": {
      "image/png": "[encoded data removed]",
      "text/plain": [
       "<matplotlib.figure.Figure at 0x7f144353bdd0>"
      ]
     },
     "metadata": {},
     "output_type": "display_data"
    }
   ],
   "source": [
    "atmos = (pd.DataFrame(\n",
    "        [{key:getattr(x, key) for key in ['Zbar','pbar','Tbar','rho','rhowv','DZ','qbar','mass','wvmass']}\n",
    "         for x in weight_shell.Atmosphere])\n",
    "         .set_index('pbar', drop=False).sort_index())\n",
    "#atmos.wvmass.sum()#.plot()\n",
    "atmos.Tbar.plot()"
   ]
  },
  {
   "cell_type": "code",
   "execution_count": 1047,
   "metadata": {
    "collapsed": true
   },
   "outputs": [],
   "source": [
    "import gasabsr98"
   ]
  },
  {
   "cell_type": "code",
   "execution_count": 1048,
   "metadata": {
    "collapsed": true
   },
   "outputs": [],
   "source": [
    "f = 54.4000"
   ]
  },
  {
   "cell_type": "code",
   "execution_count": 1049,
   "metadata": {
    "collapsed": false
   },
   "outputs": [
    {
     "data": {
      "text/plain": [
       "<matplotlib.axes._subplots.AxesSubplot at 0x7f1448b2ed90>"
      ]
     },
     "execution_count": 1049,
     "metadata": {},
     "output_type": "execute_result"
    },
    {
     "data": {
      "image/png": "[encoded data removed]",
      "text/plain": [
       "<matplotlib.figure.Figure at 0x7f1448aa3e90>"
      ]
     },
     "metadata": {},
     "output_type": "display_data"
    }
   ],
   "source": [
    "\n",
    "            # t(z) = e^-tau(z)\n",
    "#np.exp(\n",
    "# tau(z) = integral from top to z of tau\n",
    "#-layers.tau.values[::-1]#.cumsum()\n",
    "#)\n",
    "layers.tau.plot()"
   ]
  },
  {
   "cell_type": "code",
   "execution_count": 1148,
   "metadata": {
    "collapsed": true
   },
   "outputs": [],
   "source": [
    "def get_weighting_function(f):\n",
    "    truncated_layers = layers.iloc[100:].copy()\n",
    "    truncated_layers['ke_air'] = truncated_layers.apply(lambda s: gasabsr98.gasabsr98(f,C2K(s.temperature), s.rho_wv, s.pressure)[0], axis=1)\n",
    "    truncated_layers['ke_wv'] = truncated_layers.apply(lambda s: gasabsr98.gasabsr98(f,C2K(s.temperature), s.rho_wv, s.pressure)[1], axis=1)\n",
    "    \n",
    "    truncated_layers['tau'] = (truncated_layers.ke_air*truncated_layers.mass + truncated_layers.ke_wv*truncated_layers.wvmass)\n",
    "    return -(-truncated_layers.set_index('z').tau.sort_index(ascending=True).cumsum()).apply(np.exp).diff().dropna()"
   ]
  },
  {
   "cell_type": "code",
   "execution_count": 1191,
   "metadata": {
    "collapsed": true
   },
   "outputs": [],
   "source": [
    "def get_weighting_function(f):\n",
    "    atmos['ke_air'] = atmos.apply(lambda s: gasabsr98.gasabsr98(f, s.Tbar, s.rhowv, s.pbar)[0], axis=1)\n",
    "    atmos['ke_wv'] = atmos.apply(lambda s: gasabsr98.gasabsr98(f,s.Tbar, s.rhowv, s.pbar)[1], axis=1)\n",
    "    \n",
    "    atmos['tau'] = (atmos.ke_air*atmos.mass + atmos.ke_wv*atmos.wvmass)\n",
    "    return -(-atmos.set_index('Zbar').tau.sort_index(ascending=False).cumsum()).apply(np.exp).diff().dropna() / atmos.set_index('Zbar').DZ"
   ]
  },
  {
   "cell_type": "code",
   "execution_count": 1192,
   "metadata": {
    "collapsed": false
   },
   "outputs": [
    {
     "data": {
      "text/plain": [
       "7737.1295607456359"
      ]
     },
     "execution_count": 1192,
     "metadata": {},
     "output_type": "execute_result"
    }
   ],
   "source": [
    "(layers.wvmass).sum()"
   ]
  },
  {
   "cell_type": "code",
   "execution_count": 1193,
   "metadata": {
    "collapsed": false,
    "scrolled": true
   },
   "outputs": [
    {
     "data": {
      "text/plain": [
       "<matplotlib.axes._subplots.AxesSubplot at 0x7f1443440710>"
      ]
     },
     "execution_count": 1193,
     "metadata": {},
     "output_type": "execute_result"
    },
    {
     "data": {
      "image/png": "[encoded data removed]",
      "text/plain": [
       "<matplotlib.figure.Figure at 0x7f14433dfd10>"
      ]
     },
     "metadata": {},
     "output_type": "display_data"
    }
   ],
   "source": [
    "get_weighting_function(f).plot()"
   ]
  },
  {
   "cell_type": "code",
   "execution_count": 1194,
   "metadata": {
    "collapsed": false
   },
   "outputs": [],
   "source": [
    "amsu_a = pd.Series(\n",
    "    {\n",
    "        3:  50.3000,\n",
    "        4:  52.8000,\n",
    "        5:  53.7110,\n",
    "        6:  54.4000,\n",
    "        7:  54.9400,\n",
    "        8:  55.5000,\n",
    "        9:  57.2900,\n",
    "        10: 57.5070\n",
    "    }\n",
    ")\n",
    "\n",
    "amsu_b = pd.Series(\n",
    "    {\n",
    "       16: 89.00,\n",
    "        17: 150.0,\n",
    "        18: 184.31,\n",
    "        19: 186.31,\n",
    "        20: 190.31\n",
    "    }\n",
    ")"
   ]
  },
  {
   "cell_type": "code",
   "execution_count": 1195,
   "metadata": {
    "collapsed": false
   },
   "outputs": [],
   "source": [
    "weighting_functions_a = pd.DataFrame({ channel:get_weighting_function(amsu_a[channel]).ix[:400000.] for channel in amsu_a.index})\n",
    "weighting_functions_b = pd.DataFrame({ channel:get_weighting_function(amsu_b[channel]).ix[:400000.] for channel in amsu_b.index})"
   ]
  },
  {
   "cell_type": "code",
   "execution_count": 1196,
   "metadata": {
    "collapsed": false
   },
   "outputs": [
    {
     "data": {
      "text/plain": [
       "(0, 40000)"
      ]
     },
     "execution_count": 1196,
     "metadata": {},
     "output_type": "execute_result"
    },
    {
     "data": {
      "image/png": "[encoded data removed]",
      "text/plain": [
       "<matplotlib.figure.Figure at 0x7f14434639d0>"
      ]
     },
     "metadata": {},
     "output_type": "display_data"
    }
   ],
   "source": [
    "plot(weighting_functions_a.values, weighting_functions_a.index)\n",
    "#plot(weighting_functions_b, weighting_functions_b.index)\n",
    "legend(amsu_a.index, loc='best')\n",
    "ylim([0,40000])"
   ]
  },
  {
   "cell_type": "code",
   "execution_count": null,
   "metadata": {
    "collapsed": true
   },
   "outputs": [],
   "source": []
  }
 ],
 "metadata": {
  "kernelspec": {
   "display_name": "Python 2",
   "language": "python",
   "name": "python2"
  },
  "language_info": {
   "codemirror_mode": {
    "name": "ipython",
    "version": 2
   },
   "file_extension": ".py",
   "mimetype": "text/x-python",
   "name": "python",
   "nbconvert_exporter": "python",
   "pygments_lexer": "ipython2",
   "version": "2.7.11"
  }
 },
 "nbformat": 4,
 "nbformat_minor": 0
}
