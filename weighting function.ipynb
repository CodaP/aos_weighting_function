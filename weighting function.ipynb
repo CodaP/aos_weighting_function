{
 "cells": [
  {
   "cell_type": "code",
   "execution_count": 1,
   "metadata": {
    "collapsed": false
   },
   "outputs": [
    {
     "name": "stdout",
     "output_type": "stream",
     "text": [
      "Populating the interactive namespace from numpy and matplotlib\n"
     ]
    }
   ],
   "source": [
    "%pylab inline\n",
    "%load_ext autoreload\n",
    "%autoreload 2"
   ]
  },
  {
   "cell_type": "code",
   "execution_count": 2,
   "metadata": {
    "collapsed": false
   },
   "outputs": [
    {
     "name": "stderr",
     "output_type": "stream",
     "text": [
      "/home/coda/anaconda/lib/python2.7/site-packages/pandas/computation/__init__.py:19: UserWarning: The installed version of numexpr 2.4.4 is not supported in pandas and will be not be used\n",
      "\n",
      "  UserWarning)\n"
     ]
    }
   ],
   "source": [
    "import pandas as pd"
   ]
  },
  {
   "cell_type": "code",
   "execution_count": 3,
   "metadata": {
    "collapsed": true
   },
   "outputs": [],
   "source": [
    "import numpy as np"
   ]
  },
  {
   "cell_type": "code",
   "execution_count": 4,
   "metadata": {
    "collapsed": false
   },
   "outputs": [],
   "source": [
    "# Define function to compute saturation vapor pressure in Pa, given temperature in C.\n",
    "def esat(TC):\n",
    "    return(611.2*np.exp(17.67*TC/(TC+243.5)))\n",
    "\n",
    "#=================\n",
    "\n",
    "# Define function to compute saturation mixing ratio, given temperature in K and pressure in Pa\n",
    "def wsat(TK,p):\n",
    "    es = esat(TK-273.15)\n",
    "    return(0.622*es/(p-es))"
   ]
  },
  {
   "cell_type": "code",
   "execution_count": 5,
   "metadata": {
    "collapsed": true
   },
   "outputs": [],
   "source": [
    "from scipy.constants import g, C2K, K2C"
   ]
  },
  {
   "cell_type": "code",
   "execution_count": 6,
   "metadata": {
    "collapsed": false
   },
   "outputs": [],
   "source": [
    "import weight_shell"
   ]
  },
  {
   "cell_type": "code",
   "execution_count": 7,
   "metadata": {
    "collapsed": false,
    "scrolled": true
   },
   "outputs": [
    {
     "name": "stdout",
     "output_type": "stream",
     "text": [
      "Successfully opened file  91408_2011_07_19_12.txt\n",
      "93  levels in raw input sounding\n",
      "269  levels in interpolated sounding\n",
      "    p [Pa]    T [C] Td [C]  T [K]     q []\n",
      "268  layers in model atmosphere\n",
      "Total precipitable water =  57.7460405625  kg/m^2\n"
     ]
    }
   ],
   "source": [
    "sonde = weight_shell.read_sonde('91408_2011_07_19_12.txt')\n",
    "levels = weight_shell.interpolate_sounding(sonde)\n",
    "Atmosphere = weight_shell.create_atmosphere(levels)"
   ]
  },
  {
   "cell_type": "code",
   "execution_count": 8,
   "metadata": {
    "collapsed": false
   },
   "outputs": [
    {
     "data": {
      "text/plain": [
       "<matplotlib.axes._subplots.AxesSubplot at 0x7f9911f6f2d0>"
      ]
     },
     "execution_count": 8,
     "metadata": {},
     "output_type": "execute_result"
    },
    {
     "data": {
      "image/png": "[encoded data removed]",
      "text/plain": [
       "<matplotlib.figure.Figure at 0x7f991203ce50>"
      ]
     },
     "metadata": {},
     "output_type": "display_data"
    }
   ],
   "source": [
    "atmos = (pd.DataFrame(\n",
    "        [{key:getattr(x, key) for key in ['pbar','Tbar','rho','rhowv','DZ','qbar','mass','wvmass']}\n",
    "         for x in Atmosphere])\n",
    "         .set_index('pbar', drop=False).sort_index())\n",
    "atmos.qbar.plot()"
   ]
  },
  {
   "cell_type": "code",
   "execution_count": 9,
   "metadata": {
    "collapsed": false
   },
   "outputs": [],
   "source": [
    "atmos['Zbar'] = atmos.set_index('pbar').sort_index(ascending=False).DZ.cumsum()"
   ]
  },
  {
   "cell_type": "code",
   "execution_count": 35,
   "metadata": {
    "collapsed": false
   },
   "outputs": [],
   "source": [
    "def get_weighting_function_upwelling(f, layers):\n",
    "    import gasabsr98\n",
    "    layers['ke_air'] = layers.apply(lambda s: gasabsr98.gasabsr98(f,s.Tbar, s.rhowv, s.pbar)[0], axis=1)\n",
    "    layers['ke_wv'] = layers.apply(lambda s: gasabsr98.gasabsr98(f,s.Tbar, s.rhowv, s.pbar)[1], axis=1)\n",
    "    \n",
    "    layers['tau'] = (layers.ke_air*(layers.mass - layers.wvmass) + layers.ke_wv*layers.wvmass)\n",
    "    layers.ix[atmos.tau.index.max(), 'tau'] = 20\n",
    "    return (-(-layers.set_index('Zbar')\n",
    "             .tau\n",
    "             .sort_index(ascending=False)\n",
    "             .cumsum()).apply(np.exp).diff().dropna() / layers.set_index('Zbar').DZ * 1000)"
   ]
  },
  {
   "cell_type": "code",
   "execution_count": 29,
   "metadata": {
    "collapsed": false
   },
   "outputs": [],
   "source": [
    "def get_weighting_function_downwelling(f, layers):\n",
    "    import gasabsr98\n",
    "    layers['ke_air'] = layers.apply(lambda s: gasabsr98.gasabsr98(f,s.Tbar, s.rhowv, s.pbar)[0], axis=1)\n",
    "    layers['ke_wv'] = layers.apply(lambda s: gasabsr98.gasabsr98(f,s.Tbar, s.rhowv, s.pbar)[1], axis=1)\n",
    "    \n",
    "    layers['tau'] = (layers.ke_air*(layers.mass - layers.wvmass) + layers.ke_wv*layers.wvmass)\n",
    "#     return -(-layers.set_index('Zbar')\n",
    "#              .tau\n",
    "#              .sort_index(ascending=False)\n",
    "#              .cumsum()).apply(np.exp).sort_index(ascending=True).diff().dropna() / layers.set_index('Zbar').DZ * 1000\n",
    "    return (-(-atmos.set_index('Zbar').tau.sort_index(ascending=True).cumsum()).apply(np.exp).sort_index(ascending=True).diff().dropna()/ atmos.set_index('Zbar').DZ* 1000)"
   ]
  },
  {
   "cell_type": "code",
   "execution_count": 30,
   "metadata": {
    "collapsed": false
   },
   "outputs": [],
   "source": [
    "amsu_a = pd.Series(\n",
    "    {\n",
    "        3:  50.3000,\n",
    "        4:  52.8000,\n",
    "        5:  53.7110,\n",
    "        6:  54.4000,\n",
    "        7:  54.9400,\n",
    "        8:  55.5000,\n",
    "        9:  57.2900,\n",
    "        10: 57.5070\n",
    "    }\n",
    ")\n",
    "\n",
    "amsu_b = pd.Series(\n",
    "    {\n",
    "       16: 89.00,\n",
    "        17: 150.0,\n",
    "        18: 184.31,\n",
    "        19: 186.31,\n",
    "        20: 190.31\n",
    "    }\n",
    ")"
   ]
  },
  {
   "cell_type": "code",
   "execution_count": 31,
   "metadata": {
    "collapsed": false
   },
   "outputs": [],
   "source": [
    "weighting_functions_a = pd.DataFrame({ channel:get_weighting_function_upwelling(amsu_a[channel], atmos).ix[:400000.] for channel in amsu_a.index})\n",
    "weighting_functions_b = pd.DataFrame({ channel:get_weighting_function_upwelling(amsu_b[channel], atmos).ix[:400000.] for channel in amsu_b.index})"
   ]
  },
  {
   "cell_type": "code",
   "execution_count": 32,
   "metadata": {
    "collapsed": false,
    "scrolled": true
   },
   "outputs": [
    {
     "data": {
      "text/plain": [
       "(0, 0.12)"
      ]
     },
     "execution_count": 32,
     "metadata": {},
     "output_type": "execute_result"
    },
    {
     "data": {
      "image/png": "[encoded data removed]",
      "text/plain": [
       "<matplotlib.figure.Figure at 0x7f990f928690>"
      ]
     },
     "metadata": {},
     "output_type": "display_data"
    }
   ],
   "source": [
    "plot(weighting_functions_a.values, weighting_functions_a.index)\n",
    "#plot(weighting_functions_b, weighting_functions_b.index)\n",
    "#legend(amsu_a.index, loc='best')\n",
    "ylim([0,40000])\n",
    "xlim([0,.12])"
   ]
  },
  {
   "cell_type": "code",
   "execution_count": 33,
   "metadata": {
    "collapsed": false
   },
   "outputs": [
    {
     "data": {
      "text/plain": [
       "-44776895692.907166"
      ]
     },
     "execution_count": 33,
     "metadata": {},
     "output_type": "execute_result"
    }
   ],
   "source": [
    "tb_surf = .5*300\n",
    "((weighting_functions_a[3]*atmos.set_index('Zbar').DZ/1000)*atmos.set_index('Zbar').Tbar).sum() + tb_surf*(1-(weighting_functions_a[3].iloc[:-1]*atmos.set_index('Zbar').DZ/1000).sum())"
   ]
  },
  {
   "cell_type": "code",
   "execution_count": 34,
   "metadata": {
    "collapsed": false
   },
   "outputs": [
    {
     "data": {
      "text/plain": [
       "Zbar\n",
       "61.868370       4.833019e+09\n",
       "150.872940      9.126455e-01\n",
       "210.483012      9.106449e-01\n",
       "270.385633      9.106139e-01\n",
       "377.871718      9.106741e-01\n",
       "486.331814      9.108378e-01\n",
       "574.950996      9.126250e-01\n",
       "746.829312      9.175536e-01\n",
       "860.381172      9.217354e-01\n",
       "878.468968      9.231168e-01\n",
       "1130.300525     9.285224e-01\n",
       "1183.200708     9.337435e-01\n",
       "1437.897510     9.361801e-01\n",
       "1478.256068     9.389690e-01\n",
       "1488.361410     9.398881e-01\n",
       "1549.134532     9.407848e-01\n",
       "1610.143883     9.423296e-01\n",
       "1793.408671     9.432021e-01\n",
       "1805.903843     9.433651e-01\n",
       "1879.079663     9.429318e-01\n",
       "1952.727945     9.419605e-01\n",
       "2098.368944     9.431422e-01\n",
       "2187.615066     9.457757e-01\n",
       "2294.551844     9.466583e-01\n",
       "2402.652071     9.464767e-01\n",
       "2439.134134     9.463145e-01\n",
       "2572.920129     9.473425e-01\n",
       "2708.499485     9.494744e-01\n",
       "2859.786261     9.516279e-01\n",
       "3013.412764     9.537944e-01\n",
       "                    ...     \n",
       "32024.749784    9.999901e-01\n",
       "32477.129693    9.999914e-01\n",
       "32963.964348    9.999926e-01\n",
       "33490.866104    9.999936e-01\n",
       "34064.941179    9.999946e-01\n",
       "34695.371907    9.999956e-01\n",
       "35035.370699    9.999962e-01\n",
       "35394.317409    9.999966e-01\n",
       "35774.430745    9.999969e-01\n",
       "36178.343479    9.999973e-01\n",
       "36609.212362    9.999976e-01\n",
       "37070.867104    9.999979e-01\n",
       "37568.016392    9.999982e-01\n",
       "38106.539328    9.999985e-01\n",
       "38693.908648    9.999987e-01\n",
       "39339.824438    9.999989e-01\n",
       "39688.609811    9.999991e-01\n",
       "40057.199889    9.999992e-01\n",
       "40447.970225    9.999993e-01\n",
       "40863.751211    9.999994e-01\n",
       "41307.952162    9.999994e-01\n",
       "41784.730822    9.999995e-01\n",
       "42299.229848    9.999996e-01\n",
       "42857.914771    9.999996e-01\n",
       "43469.070626    9.999997e-01\n",
       "44143.556020    9.999998e-01\n",
       "44508.924018    9.999998e-01\n",
       "44895.994336    9.999998e-01\n",
       "45307.503538    9.999998e-01\n",
       "45746.740829             NaN\n",
       "Name: 3, dtype: float64"
      ]
     },
     "execution_count": 34,
     "metadata": {},
     "output_type": "execute_result"
    }
   ],
   "source": [
    "(1-(weighting_functions_a[3]))\n",
    "#atmos.set_index('Zbar').DZ.iloc[0]/1000"
   ]
  },
  {
   "cell_type": "code",
   "execution_count": null,
   "metadata": {
    "collapsed": true
   },
   "outputs": [],
   "source": []
  }
 ],
 "metadata": {
  "kernelspec": {
   "display_name": "Python 2",
   "language": "python",
   "name": "python2"
  },
  "language_info": {
   "codemirror_mode": {
    "name": "ipython",
    "version": 2
   },
   "file_extension": ".py",
   "mimetype": "text/x-python",
   "name": "python",
   "nbconvert_exporter": "python",
   "pygments_lexer": "ipython2",
   "version": "2.7.11"
  }
 },
 "nbformat": 4,
 "nbformat_minor": 0
}
